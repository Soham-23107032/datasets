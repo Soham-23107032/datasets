{
 "cells": [
  {
   "cell_type": "code",
   "execution_count": 3,
   "id": "80c7db6e-7198-4159-9940-43b608b6f543",
   "metadata": {},
   "outputs": [
    {
     "name": "stdout",
     "output_type": "stream",
     "text": [
      "      Names  RN\n",
      "0     soham  95\n",
      "1     patil  68\n",
      "2  shreeram  70\n"
     ]
    }
   ],
   "source": [
    "import pandas as pd\n",
    "\n",
    "data = {\n",
    "\n",
    "    \"Names\" : ['soham' , 'patil' , 'shreeram'],\n",
    "\"RN\" : [95 , 68 , 70]\n",
    "\n",
    "\n",
    "}\n",
    "\n",
    "df  = pd.DataFrame(data)\n",
    "\n",
    "print(df)"
   ]
  },
  {
   "cell_type": "code",
   "execution_count": null,
   "id": "a7b7edaa-374f-4abe-b4d1-1d1cb5d1580f",
   "metadata": {},
   "outputs": [],
   "source": []
  }
 ],
 "metadata": {
  "kernelspec": {
   "display_name": "Python 3 (ipykernel)",
   "language": "python",
   "name": "python3"
  },
  "language_info": {
   "codemirror_mode": {
    "name": "ipython",
    "version": 3
   },
   "file_extension": ".py",
   "mimetype": "text/x-python",
   "name": "python",
   "nbconvert_exporter": "python",
   "pygments_lexer": "ipython3",
   "version": "3.12.6"
  }
 },
 "nbformat": 4,
 "nbformat_minor": 5
}
